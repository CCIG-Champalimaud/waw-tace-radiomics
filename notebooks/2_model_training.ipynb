{
 "cells": [
  {
   "cell_type": "markdown",
   "id": "141b9f36-d761-4988-83f2-3f06bf320109",
   "metadata": {},
   "source": [
    "# Model training and tuning\n",
    "\n",
    "Training and tuning a model for the best hyperparameters can be complicated. There are many choices when it comes to models, preprocessing strategies and even data-specific strategies.\n",
    "\n",
    "As noted, we will be using WAW-TACE. Using radiomic feature extraction to extract features from both the arterial and portal venous phases, we will be training a model capable of predicting whether a patient will **progress** at any time during follow-up (minimum follow-up duration of 33.8 months).\n",
    "\n",
    "We will be training a model to predict **patient progression**."
   ]
  },
  {
   "cell_type": "markdown",
   "id": "65a6657d",
   "metadata": {},
   "source": [
    "## Data-specific strategies\n",
    "\n",
    "Let's carefully consider the data we have: we know that some patients have multiple lesions, but we only have outcome data on a per patient level - there is reasonable way of knowing the outcome on a per lesion level!\n",
    "\n",
    "So we are faced with a dilema: \n",
    "\n",
    "1. If we use all lesions, the same patient target has to be valid for multiple lesions, but does this make sense? We are ultimately implying that all lesions contribute equally to the outcome of the patient when we know this not to be the case!\n",
    "2. If we use only the largest lesion we may be losing information present in smaller lesions!\n",
    "\n",
    "Here, we chose a compromise: we will be working with features from the largest lesion and including lesion sizes until the third largest lesion. So, if an individual has no other lesion, then $\\mathrm{2nd\\ largest\\ lesion\\ size} = 0$ and $\\mathrm{3rd\\ largest\\ lesion\\ size} = 0$. Otherwise, these values will be positive. "
   ]
  },
  {
   "cell_type": "markdown",
   "id": "e291e417-24fc-4a5f-970c-c709011a56d7",
   "metadata": {},
   "source": [
    "## Data preprocessing\n",
    "\n",
    "Data pre-processing typically involves strategies dedicated to:\n",
    "\n",
    "- **Normalising** or **standardising data**: each individual feature is transformed, making all features follow a distribution with common parameters (typically $\\mu = 0$ and $\\sigma=1$). This makes comparisons between features considerably easier and is necessary for some models to adequately converge\n",
    "- **Removing features with 0 variance**\n",
    "- **Removing correlated features**: removing correlated features is also of paramount importance, particularly when considering radiomic feature models. In this scenario, we are often faced with datasets where the number of samples is relatively reduced, especially when compared with the number of features. Removing correlated features reduces the possibility of spurious associations \n",
    "- **Removing features which are not associated with the target variable**: a lot of features may be completely unrelated to the target variable, so assessing their association with the target variable is an easy way of performing this. For instance, if a variable shows a statistically significant difference between different classes, it is likely that this is a good predictor! This may sound familiar to some of you who may have performed survival analyses - typically, in these analyses, an initial set of single variable analysis (i.e. log-rank test) are performed to select statistically significant variables which are then used for multiple variable Cox proportional hazards model to control for feature interaction\n",
    "\n",
    "**Warning:** keep in mind that features may not be _individually_ associated with the target, but may _interact_ with other features, making them indirectly associated with the target."
   ]
  },
  {
   "cell_type": "markdown",
   "id": "5624b6f8-c65e-48e5-99d9-190583c3050a",
   "metadata": {},
   "source": [
    "## Model selection\n",
    "\n",
    "We should take note of some key aspects of **model selection** when working with tabular data:\n",
    "\n",
    "* If **performance** is key, maybe go for tree-based models ([random forests](https://www.datacamp.com/tutorial/random-forests-classifier-python), [XGBoost](https://www.kdnuggets.com/2020/12/xgboost-what-when.html) or [LightGBM](https://www.geeksforgeeks.org/lightgbm-light-gradient-boosting-machine/)). However, keep in mind the following - with small datasets, there is only so much we can do! While tree-based models do what they can to reduce overfitting, the fact is: when we have a relatively small amount of data, overfitting may be right around the corner!\n",
    "* If **interpretability** is key, maybe for linear models. A good example of this is [elastic net regression](https://analyticsindiamag.com/ai-mysteries/hands-on-tutorial-on-elasticnet-regression/#h-what-is-elastic-net). This regression method tries to simultaneously shrink and eliminate features which are highly correlated. However, not everything is perfect - due to their simplicity, these models may fail to capture complex relationships within the data. As such, their performance is possibly quite reduced\n",
    "\n",
    "## What is to be done?\n",
    "\n",
    "1. Use random forest with nested CV to obtain the expected hyperparameter tuning performance\n",
    "2. Compare models with models trained on simpler, clinical data (i.e. laboratory results and lesion diameters) using both nested CV and hold-out test set\n",
    "\n",
    "**Important:** all decisions relating to model development should be made from the top - the testing set should only be used once!"
   ]
  },
  {
   "cell_type": "markdown",
   "id": "f1a180c5-1fca-4e99-88f8-a9b78000d583",
   "metadata": {},
   "source": [
    "## Loading the data\n",
    "\n",
    "We will use here the complete set of features from WAW-TACE as extracted in the previous section. We start by selecting the largest lesion and by filling in the lesion sizes for the 2nd and 3rd largest lesions (if available). For the rest of the data we will be using **disease progression** as our target."
   ]
  },
  {
   "cell_type": "code",
   "execution_count": 1,
   "id": "1e965534-f2c7-452c-b8b7-0f827d8d5813",
   "metadata": {},
   "outputs": [],
   "source": [
    "import pandas as pd\n",
    "import numpy as np\n",
    "\n",
    "# relevant paths and constants are defined here\n",
    "clinical_data_target_path = \"/big_disk/Datasets/WAW-TACE/clinical_data_wawtace_v2_15_07_2024.xlsx\"\n",
    "arterial_feature_df_path = \"../data/all_data_1.csv\"\n",
    "portal_feature_df_path = \"../data/all_data_2.csv\"\n",
    "size_feature = \"original_shape_VoxelVolume\"\n",
    "\n",
    "df_target = pd.read_excel(clinical_data_target_path)\n",
    "dfs = {\n",
    "    \"Arterial\": pd.read_csv(arterial_feature_df_path),\n",
    "    \"Portal\": pd.read_csv(portal_feature_df_path),\n",
    "}\n",
    "\n",
    "new_df = {\n",
    "    \"Arterial\": [], \n",
    "    \"Portal\": []\n",
    "}\n",
    "for k in dfs:\n",
    "    df = dfs[k]\n",
    "    n = 0\n",
    "    for patient in df[\"identifier\"].unique():\n",
    "        sub_df = df[df[\"identifier\"] == patient].copy()\n",
    "        if sub_df.shape[0] > 1:\n",
    "            keep_lesion = sub_df.sort_values(size_feature).iloc[-1] # keep only last (largest)\n",
    "            lesion_sizes = sorted(sub_df[size_feature])[:-1][::-1] # exclude last (largest)\n",
    "            if len(lesion_sizes) == 1:\n",
    "                lesion_sizes = [lesion_sizes[0], 0]\n",
    "            keep_lesion[\"2nd_largest_size\"] = lesion_sizes[0]\n",
    "            keep_lesion[\"3nd_largest_size\"] = lesion_sizes[1]\n",
    "            sub_df = pd.DataFrame(keep_lesion).T\n",
    "        else:\n",
    "            sub_df.loc[:, \"2nd_largest_size\"] = 0\n",
    "            sub_df.loc[:, \"3nd_largest_size\"] = 0\n",
    "        cols_to_drop = [\"phase\", \"mask_idx\"]\n",
    "        cols_to_drop.extend([x for x in sub_df.columns if \"diagnostics\" in x])\n",
    "        sub_df.drop(cols_to_drop, inplace=True, axis=1)\n",
    "        sub_df.columns = [f\"{x}_{k}\" if x != \"identifier\" else x for x in sub_df.columns]\n",
    "        new_df[k].append(sub_df)\n",
    "        n += 1\n",
    "\n",
    "new_df[\"Arterial\"] = pd.concat(new_df[\"Arterial\"], axis=0)\n",
    "new_df[\"Portal\"] = pd.concat(new_df[\"Portal\"], axis=0)\n",
    "\n",
    "radiomics_df = pd.merge(new_df[\"Arterial\"], new_df[\"Portal\"])"
   ]
  },
  {
   "cell_type": "code",
   "execution_count": 2,
   "id": "7a7e76bf",
   "metadata": {},
   "outputs": [
    {
     "data": {
      "text/html": [
       "<div>\n",
       "<style scoped>\n",
       "    .dataframe tbody tr th:only-of-type {\n",
       "        vertical-align: middle;\n",
       "    }\n",
       "\n",
       "    .dataframe tbody tr th {\n",
       "        vertical-align: top;\n",
       "    }\n",
       "\n",
       "    .dataframe thead th {\n",
       "        text-align: right;\n",
       "    }\n",
       "</style>\n",
       "<table border=\"1\" class=\"dataframe\">\n",
       "  <thead>\n",
       "    <tr style=\"text-align: right;\">\n",
       "      <th></th>\n",
       "      <th>original_shape_Elongation_Arterial</th>\n",
       "      <th>original_shape_Flatness_Arterial</th>\n",
       "      <th>original_shape_LeastAxisLength_Arterial</th>\n",
       "      <th>original_shape_MajorAxisLength_Arterial</th>\n",
       "      <th>original_shape_Maximum2DDiameterColumn_Arterial</th>\n",
       "      <th>original_shape_Maximum2DDiameterRow_Arterial</th>\n",
       "      <th>original_shape_Maximum2DDiameterSlice_Arterial</th>\n",
       "      <th>original_shape_Maximum3DDiameter_Arterial</th>\n",
       "      <th>original_shape_MeshVolume_Arterial</th>\n",
       "      <th>original_shape_MinorAxisLength_Arterial</th>\n",
       "      <th>...</th>\n",
       "      <th>original_glszm_ZoneEntropy_Portal</th>\n",
       "      <th>original_glszm_ZonePercentage_Portal</th>\n",
       "      <th>original_glszm_ZoneVariance_Portal</th>\n",
       "      <th>original_ngtdm_Busyness_Portal</th>\n",
       "      <th>original_ngtdm_Coarseness_Portal</th>\n",
       "      <th>original_ngtdm_Complexity_Portal</th>\n",
       "      <th>original_ngtdm_Contrast_Portal</th>\n",
       "      <th>original_ngtdm_Strength_Portal</th>\n",
       "      <th>2nd_largest_size_Portal</th>\n",
       "      <th>3nd_largest_size_Portal</th>\n",
       "    </tr>\n",
       "  </thead>\n",
       "  <tbody>\n",
       "    <tr>\n",
       "      <th>0</th>\n",
       "      <td>0.837296</td>\n",
       "      <td>0.694129</td>\n",
       "      <td>54.195568</td>\n",
       "      <td>78.077131</td>\n",
       "      <td>79.879112</td>\n",
       "      <td>93.033597</td>\n",
       "      <td>77.698041</td>\n",
       "      <td>93.45719</td>\n",
       "      <td>193403.671682</td>\n",
       "      <td>65.373647</td>\n",
       "      <td>...</td>\n",
       "      <td>5.616258</td>\n",
       "      <td>0.180583</td>\n",
       "      <td>415.923808</td>\n",
       "      <td>93.260333</td>\n",
       "      <td>0.000093</td>\n",
       "      <td>51.645535</td>\n",
       "      <td>0.012845</td>\n",
       "      <td>0.007815</td>\n",
       "      <td>0</td>\n",
       "      <td>0</td>\n",
       "    </tr>\n",
       "    <tr>\n",
       "      <th>1</th>\n",
       "      <td>0.838737</td>\n",
       "      <td>0.818634</td>\n",
       "      <td>46.809573</td>\n",
       "      <td>57.180091</td>\n",
       "      <td>73.55636</td>\n",
       "      <td>73.051887</td>\n",
       "      <td>57.740613</td>\n",
       "      <td>73.799475</td>\n",
       "      <td>89791.889899</td>\n",
       "      <td>47.959079</td>\n",
       "      <td>...</td>\n",
       "      <td>5.487772</td>\n",
       "      <td>0.254461</td>\n",
       "      <td>96.732914</td>\n",
       "      <td>13.912539</td>\n",
       "      <td>0.000288</td>\n",
       "      <td>97.450501</td>\n",
       "      <td>0.015114</td>\n",
       "      <td>0.045057</td>\n",
       "      <td>0</td>\n",
       "      <td>0</td>\n",
       "    </tr>\n",
       "    <tr>\n",
       "      <th>2</th>\n",
       "      <td>0.989452</td>\n",
       "      <td>0.672488</td>\n",
       "      <td>29.298201</td>\n",
       "      <td>43.566847</td>\n",
       "      <td>48.798465</td>\n",
       "      <td>51.302072</td>\n",
       "      <td>49.799312</td>\n",
       "      <td>53.420807</td>\n",
       "      <td>39108.183209</td>\n",
       "      <td>43.107303</td>\n",
       "      <td>...</td>\n",
       "      <td>5.050587</td>\n",
       "      <td>0.15402</td>\n",
       "      <td>868.864104</td>\n",
       "      <td>44.492427</td>\n",
       "      <td>0.000329</td>\n",
       "      <td>21.748154</td>\n",
       "      <td>0.014251</td>\n",
       "      <td>0.011753</td>\n",
       "      <td>11959.075928</td>\n",
       "      <td>5710.601807</td>\n",
       "    </tr>\n",
       "    <tr>\n",
       "      <th>3</th>\n",
       "      <td>0.662138</td>\n",
       "      <td>0.629182</td>\n",
       "      <td>49.464296</td>\n",
       "      <td>78.616849</td>\n",
       "      <td>71.669139</td>\n",
       "      <td>91.478372</td>\n",
       "      <td>79.06185</td>\n",
       "      <td>92.949463</td>\n",
       "      <td>131284.801981</td>\n",
       "      <td>52.055228</td>\n",
       "      <td>...</td>\n",
       "      <td>5.432544</td>\n",
       "      <td>0.182925</td>\n",
       "      <td>586.995045</td>\n",
       "      <td>138.452291</td>\n",
       "      <td>0.000036</td>\n",
       "      <td>62.640074</td>\n",
       "      <td>0.007465</td>\n",
       "      <td>0.00459</td>\n",
       "      <td>0</td>\n",
       "      <td>0</td>\n",
       "    </tr>\n",
       "    <tr>\n",
       "      <th>4</th>\n",
       "      <td>0.786807</td>\n",
       "      <td>0.651394</td>\n",
       "      <td>35.319262</td>\n",
       "      <td>54.221025</td>\n",
       "      <td>69.614301</td>\n",
       "      <td>51.345162</td>\n",
       "      <td>60.09433</td>\n",
       "      <td>69.821498</td>\n",
       "      <td>57874.668155</td>\n",
       "      <td>42.661484</td>\n",
       "      <td>...</td>\n",
       "      <td>5.463129</td>\n",
       "      <td>0.061421</td>\n",
       "      <td>10244.377787</td>\n",
       "      <td>5.266737</td>\n",
       "      <td>0.00066</td>\n",
       "      <td>602.055487</td>\n",
       "      <td>0.003179</td>\n",
       "      <td>13.980325</td>\n",
       "      <td>0</td>\n",
       "      <td>0</td>\n",
       "    </tr>\n",
       "    <tr>\n",
       "      <th>...</th>\n",
       "      <td>...</td>\n",
       "      <td>...</td>\n",
       "      <td>...</td>\n",
       "      <td>...</td>\n",
       "      <td>...</td>\n",
       "      <td>...</td>\n",
       "      <td>...</td>\n",
       "      <td>...</td>\n",
       "      <td>...</td>\n",
       "      <td>...</td>\n",
       "      <td>...</td>\n",
       "      <td>...</td>\n",
       "      <td>...</td>\n",
       "      <td>...</td>\n",
       "      <td>...</td>\n",
       "      <td>...</td>\n",
       "      <td>...</td>\n",
       "      <td>...</td>\n",
       "      <td>...</td>\n",
       "      <td>...</td>\n",
       "      <td>...</td>\n",
       "    </tr>\n",
       "    <tr>\n",
       "      <th>221</th>\n",
       "      <td>0.8959</td>\n",
       "      <td>0.599339</td>\n",
       "      <td>57.389109</td>\n",
       "      <td>95.754003</td>\n",
       "      <td>101.42708</td>\n",
       "      <td>105.897608</td>\n",
       "      <td>105.069913</td>\n",
       "      <td>108.759343</td>\n",
       "      <td>328140.77107</td>\n",
       "      <td>85.786</td>\n",
       "      <td>...</td>\n",
       "      <td>5.196633</td>\n",
       "      <td>0.09897</td>\n",
       "      <td>6636.242042</td>\n",
       "      <td>7.909368</td>\n",
       "      <td>0.000047</td>\n",
       "      <td>673.021055</td>\n",
       "      <td>0.000977</td>\n",
       "      <td>0.43372</td>\n",
       "      <td>0</td>\n",
       "      <td>0</td>\n",
       "    </tr>\n",
       "    <tr>\n",
       "      <th>222</th>\n",
       "      <td>0.605449</td>\n",
       "      <td>0.457891</td>\n",
       "      <td>33.286311</td>\n",
       "      <td>72.69476</td>\n",
       "      <td>62.173729</td>\n",
       "      <td>81.221184</td>\n",
       "      <td>55.087853</td>\n",
       "      <td>81.285185</td>\n",
       "      <td>69012.968102</td>\n",
       "      <td>44.01298</td>\n",
       "      <td>...</td>\n",
       "      <td>5.21707</td>\n",
       "      <td>0.237457</td>\n",
       "      <td>138.610414</td>\n",
       "      <td>66.090673</td>\n",
       "      <td>0.000219</td>\n",
       "      <td>34.279283</td>\n",
       "      <td>0.021247</td>\n",
       "      <td>0.008447</td>\n",
       "      <td>5488.395691</td>\n",
       "      <td>0</td>\n",
       "    </tr>\n",
       "    <tr>\n",
       "      <th>223</th>\n",
       "      <td>0.897425</td>\n",
       "      <td>0.816176</td>\n",
       "      <td>37.688055</td>\n",
       "      <td>46.176401</td>\n",
       "      <td>52.875704</td>\n",
       "      <td>50.927455</td>\n",
       "      <td>49.741264</td>\n",
       "      <td>56.419911</td>\n",
       "      <td>51643.260734</td>\n",
       "      <td>41.439871</td>\n",
       "      <td>...</td>\n",
       "      <td>5.271053</td>\n",
       "      <td>0.112288</td>\n",
       "      <td>1526.059444</td>\n",
       "      <td>59.459043</td>\n",
       "      <td>0.00035</td>\n",
       "      <td>14.078798</td>\n",
       "      <td>0.013597</td>\n",
       "      <td>0.009198</td>\n",
       "      <td>0</td>\n",
       "      <td>0</td>\n",
       "    </tr>\n",
       "    <tr>\n",
       "      <th>224</th>\n",
       "      <td>0.865186</td>\n",
       "      <td>0.688782</td>\n",
       "      <td>89.002259</td>\n",
       "      <td>129.216813</td>\n",
       "      <td>143.5778</td>\n",
       "      <td>137.65397</td>\n",
       "      <td>132.691763</td>\n",
       "      <td>153.037291</td>\n",
       "      <td>910509.067087</td>\n",
       "      <td>111.796579</td>\n",
       "      <td>...</td>\n",
       "      <td>5.921886</td>\n",
       "      <td>0.10892</td>\n",
       "      <td>3598.811068</td>\n",
       "      <td>202.577692</td>\n",
       "      <td>0.000007</td>\n",
       "      <td>144.305239</td>\n",
       "      <td>0.00254</td>\n",
       "      <td>0.005118</td>\n",
       "      <td>0</td>\n",
       "      <td>0</td>\n",
       "    </tr>\n",
       "    <tr>\n",
       "      <th>225</th>\n",
       "      <td>0.912578</td>\n",
       "      <td>0.846985</td>\n",
       "      <td>24.131797</td>\n",
       "      <td>28.491425</td>\n",
       "      <td>32.655934</td>\n",
       "      <td>33.095327</td>\n",
       "      <td>30.595038</td>\n",
       "      <td>34.076532</td>\n",
       "      <td>12776.398529</td>\n",
       "      <td>26.000659</td>\n",
       "      <td>...</td>\n",
       "      <td>5.198599</td>\n",
       "      <td>0.080397</td>\n",
       "      <td>1546.23686</td>\n",
       "      <td>15.650082</td>\n",
       "      <td>0.001442</td>\n",
       "      <td>12.056536</td>\n",
       "      <td>0.009235</td>\n",
       "      <td>0.044225</td>\n",
       "      <td>0</td>\n",
       "      <td>0</td>\n",
       "    </tr>\n",
       "  </tbody>\n",
       "</table>\n",
       "<p>226 rows × 219 columns</p>\n",
       "</div>"
      ],
      "text/plain": [
       "    original_shape_Elongation_Arterial original_shape_Flatness_Arterial  \\\n",
       "0                             0.837296                         0.694129   \n",
       "1                             0.838737                         0.818634   \n",
       "2                             0.989452                         0.672488   \n",
       "3                             0.662138                         0.629182   \n",
       "4                             0.786807                         0.651394   \n",
       "..                                 ...                              ...   \n",
       "221                             0.8959                         0.599339   \n",
       "222                           0.605449                         0.457891   \n",
       "223                           0.897425                         0.816176   \n",
       "224                           0.865186                         0.688782   \n",
       "225                           0.912578                         0.846985   \n",
       "\n",
       "    original_shape_LeastAxisLength_Arterial  \\\n",
       "0                                 54.195568   \n",
       "1                                 46.809573   \n",
       "2                                 29.298201   \n",
       "3                                 49.464296   \n",
       "4                                 35.319262   \n",
       "..                                      ...   \n",
       "221                               57.389109   \n",
       "222                               33.286311   \n",
       "223                               37.688055   \n",
       "224                               89.002259   \n",
       "225                               24.131797   \n",
       "\n",
       "    original_shape_MajorAxisLength_Arterial  \\\n",
       "0                                 78.077131   \n",
       "1                                 57.180091   \n",
       "2                                 43.566847   \n",
       "3                                 78.616849   \n",
       "4                                 54.221025   \n",
       "..                                      ...   \n",
       "221                               95.754003   \n",
       "222                                72.69476   \n",
       "223                               46.176401   \n",
       "224                              129.216813   \n",
       "225                               28.491425   \n",
       "\n",
       "    original_shape_Maximum2DDiameterColumn_Arterial  \\\n",
       "0                                         79.879112   \n",
       "1                                          73.55636   \n",
       "2                                         48.798465   \n",
       "3                                         71.669139   \n",
       "4                                         69.614301   \n",
       "..                                              ...   \n",
       "221                                       101.42708   \n",
       "222                                       62.173729   \n",
       "223                                       52.875704   \n",
       "224                                        143.5778   \n",
       "225                                       32.655934   \n",
       "\n",
       "    original_shape_Maximum2DDiameterRow_Arterial  \\\n",
       "0                                      93.033597   \n",
       "1                                      73.051887   \n",
       "2                                      51.302072   \n",
       "3                                      91.478372   \n",
       "4                                      51.345162   \n",
       "..                                           ...   \n",
       "221                                   105.897608   \n",
       "222                                    81.221184   \n",
       "223                                    50.927455   \n",
       "224                                    137.65397   \n",
       "225                                    33.095327   \n",
       "\n",
       "    original_shape_Maximum2DDiameterSlice_Arterial  \\\n",
       "0                                        77.698041   \n",
       "1                                        57.740613   \n",
       "2                                        49.799312   \n",
       "3                                         79.06185   \n",
       "4                                         60.09433   \n",
       "..                                             ...   \n",
       "221                                     105.069913   \n",
       "222                                      55.087853   \n",
       "223                                      49.741264   \n",
       "224                                     132.691763   \n",
       "225                                      30.595038   \n",
       "\n",
       "    original_shape_Maximum3DDiameter_Arterial  \\\n",
       "0                                    93.45719   \n",
       "1                                   73.799475   \n",
       "2                                   53.420807   \n",
       "3                                   92.949463   \n",
       "4                                   69.821498   \n",
       "..                                        ...   \n",
       "221                                108.759343   \n",
       "222                                 81.285185   \n",
       "223                                 56.419911   \n",
       "224                                153.037291   \n",
       "225                                 34.076532   \n",
       "\n",
       "    original_shape_MeshVolume_Arterial  \\\n",
       "0                        193403.671682   \n",
       "1                         89791.889899   \n",
       "2                         39108.183209   \n",
       "3                        131284.801981   \n",
       "4                         57874.668155   \n",
       "..                                 ...   \n",
       "221                       328140.77107   \n",
       "222                       69012.968102   \n",
       "223                       51643.260734   \n",
       "224                      910509.067087   \n",
       "225                       12776.398529   \n",
       "\n",
       "    original_shape_MinorAxisLength_Arterial  ...  \\\n",
       "0                                 65.373647  ...   \n",
       "1                                 47.959079  ...   \n",
       "2                                 43.107303  ...   \n",
       "3                                 52.055228  ...   \n",
       "4                                 42.661484  ...   \n",
       "..                                      ...  ...   \n",
       "221                                  85.786  ...   \n",
       "222                                44.01298  ...   \n",
       "223                               41.439871  ...   \n",
       "224                              111.796579  ...   \n",
       "225                               26.000659  ...   \n",
       "\n",
       "    original_glszm_ZoneEntropy_Portal original_glszm_ZonePercentage_Portal  \\\n",
       "0                            5.616258                             0.180583   \n",
       "1                            5.487772                             0.254461   \n",
       "2                            5.050587                              0.15402   \n",
       "3                            5.432544                             0.182925   \n",
       "4                            5.463129                             0.061421   \n",
       "..                                ...                                  ...   \n",
       "221                          5.196633                              0.09897   \n",
       "222                           5.21707                             0.237457   \n",
       "223                          5.271053                             0.112288   \n",
       "224                          5.921886                              0.10892   \n",
       "225                          5.198599                             0.080397   \n",
       "\n",
       "    original_glszm_ZoneVariance_Portal original_ngtdm_Busyness_Portal  \\\n",
       "0                           415.923808                      93.260333   \n",
       "1                            96.732914                      13.912539   \n",
       "2                           868.864104                      44.492427   \n",
       "3                           586.995045                     138.452291   \n",
       "4                         10244.377787                       5.266737   \n",
       "..                                 ...                            ...   \n",
       "221                        6636.242042                       7.909368   \n",
       "222                         138.610414                      66.090673   \n",
       "223                        1526.059444                      59.459043   \n",
       "224                        3598.811068                     202.577692   \n",
       "225                         1546.23686                      15.650082   \n",
       "\n",
       "    original_ngtdm_Coarseness_Portal original_ngtdm_Complexity_Portal  \\\n",
       "0                           0.000093                        51.645535   \n",
       "1                           0.000288                        97.450501   \n",
       "2                           0.000329                        21.748154   \n",
       "3                           0.000036                        62.640074   \n",
       "4                            0.00066                       602.055487   \n",
       "..                               ...                              ...   \n",
       "221                         0.000047                       673.021055   \n",
       "222                         0.000219                        34.279283   \n",
       "223                          0.00035                        14.078798   \n",
       "224                         0.000007                       144.305239   \n",
       "225                         0.001442                        12.056536   \n",
       "\n",
       "    original_ngtdm_Contrast_Portal original_ngtdm_Strength_Portal  \\\n",
       "0                         0.012845                       0.007815   \n",
       "1                         0.015114                       0.045057   \n",
       "2                         0.014251                       0.011753   \n",
       "3                         0.007465                        0.00459   \n",
       "4                         0.003179                      13.980325   \n",
       "..                             ...                            ...   \n",
       "221                       0.000977                        0.43372   \n",
       "222                       0.021247                       0.008447   \n",
       "223                       0.013597                       0.009198   \n",
       "224                        0.00254                       0.005118   \n",
       "225                       0.009235                       0.044225   \n",
       "\n",
       "    2nd_largest_size_Portal 3nd_largest_size_Portal  \n",
       "0                         0                       0  \n",
       "1                         0                       0  \n",
       "2              11959.075928             5710.601807  \n",
       "3                         0                       0  \n",
       "4                         0                       0  \n",
       "..                      ...                     ...  \n",
       "221                       0                       0  \n",
       "222             5488.395691                       0  \n",
       "223                       0                       0  \n",
       "224                       0                       0  \n",
       "225                       0                       0  \n",
       "\n",
       "[226 rows x 219 columns]"
      ]
     },
     "execution_count": 2,
     "metadata": {},
     "output_type": "execute_result"
    }
   ],
   "source": [
    "radiomics_df"
   ]
  },
  {
   "cell_type": "code",
   "execution_count": 4,
   "id": "d5a8c245-2ccc-450e-92e8-7fe2e60e2445",
   "metadata": {},
   "outputs": [],
   "source": [
    "target_var = \"progression\"\n",
    "\n",
    "relevant_columns = [\n",
    "    \"age\", # patient age\n",
    "    \"gender_woman\", # whether patient identifies as woman\n",
    "    \"etiology_mixed\", # whether tumor etiology is mixed\n",
    "    \"etiology_HCV\", # whether tumor etiology is hep C\n",
    "    \"etiology_HBV\", # whether tumor etiology is hep B\n",
    "    \"etiology_alcoholic\", # whether tumor etiology is alcoholic\n",
    "    \"etiology_NASH\", # whether tumor etiology is nonalcoholic steatohepatitis\n",
    "    \"etiology_cryptogenic\", # whether etiology is unknown\n",
    "    \"lab_albumin\", # albumin concentration\n",
    "    \"lab_creatinine\", # creatinine concentration\n",
    "    \"lab_bilirubin\", # bilirubin concentration\n",
    "    \"lab_afp\", # alfa-fetoprotein concentration\n",
    "    \"lab_inr\", # prothrombin international normalised ratio \n",
    "    \"lab_alt\", # alanine aminotransferase\n",
    "    \"lesion1_diameter\", # largest lesion diameter\n",
    "    \"lesion2_diameter\", # 2nd largest lesion diameter\n",
    "    \"lesion3_diameter\", # 3rd largest lesion diameter\n",
    "    \"lesion1_LIRADS\", # largest lesion LI-RADS\n",
    "    \"lesion2_LIRADS\", # 2nd largest lesion LI-RADS\n",
    "    \"lesion3_LIRADS\", # 3nd largest lesion LI-RADS\n",
    "    # combined positive score (PD-L1 positive cells / viable tumour cells)\n",
    "    \"cps\", \n",
    "    # Barcelona clinic liver cancer score (number and size of tumours, general health and fitness, liver function)\n",
    "    \"bclc\", \n",
    "    # HAP score (albumin, bilirubin, AFP, tumour size)\n",
    "    \"hap_score\", \n",
    "    # modified hepatoma arterial embolisation prognostic II (HAP + tumour number)\n",
    "    \"mhap_2\",\n",
    "    # albumin and bilirubin, tumour size * number of tumours\n",
    "    \"albi_tae\",\n",
    "    # 6 and 12 score (tumour size, number of tumours)\n",
    "    \"6_12_score\",\n",
    "]\n",
    "\n",
    "df_target_processed = df_target[[\"PATPRI\", *relevant_columns, target_var]].copy()\n",
    "df_target_processed[\"identifier\"] = df_target_processed[\"PATPRI\"]\n",
    "df_target_processed[\"class\"] = df_target_processed[target_var]\n",
    "df_target_processed = df_target_processed.drop([\"PATPRI\", target_var],axis=1)\n",
    "df_class = df_target_processed.loc[:, [\"identifier\", \"class\"]]\n",
    "df_clinical = df_target_processed.drop([\"class\"],axis=1)\n",
    "for k in [\"lesion2_diameter\", \"lesion3_diameter\", \"lesion2_LIRADS\", \"lesion3_LIRADS\"]:\n",
    "    if k in df_clinical:\n",
    "        df_clinical[k] = df_clinical[k].fillna(0)\n",
    "\n",
    "for k in [\"lesion1_LIRADS\"]:\n",
    "    if k in df_clinical:\n",
    "        df_clinical[k] = np.where(df_clinical[k] == \"M\", 6, df_clinical[k])\n",
    "\n",
    "df_clinical = df_clinical.dropna(axis=0)"
   ]
  },
  {
   "cell_type": "code",
   "execution_count": 10,
   "id": "3c639a49",
   "metadata": {},
   "outputs": [],
   "source": [
    "generate_test_set = False\n",
    "\n",
    "if generate_test_set is True:\n",
    "    test_set_size = 0.25\n",
    "    from sklearn.model_selection import train_test_split\n",
    "\n",
    "    with open(\"test_patients\", \"w\") as o:\n",
    "        ids = df_class[\"identifier\"].astype(str).tolist()\n",
    "        classes = df_class[\"class\"].tolist()\n",
    "        train_split, test_split = train_test_split(\n",
    "            ids, \n",
    "            test_size=test_set_size, \n",
    "            random_state=42, \n",
    "            stratify=classes)\n",
    "        print(len(train_split), len(test_split))\n",
    "        o.write(\"\\n\".join(test_split))"
   ]
  },
  {
   "cell_type": "markdown",
   "id": "f8f830db-8d5e-4140-a02a-b30103083245",
   "metadata": {},
   "source": [
    "## Make data splits\n",
    "\n",
    "Here, we are setting aside 25% of the data for a hold-out test set. We will not touch the hold-out test data except for the actual testing at the end!"
   ]
  },
  {
   "cell_type": "code",
   "execution_count": 11,
   "id": "04a2ad44-78a9-41da-8071-3c05ad99bd14",
   "metadata": {},
   "outputs": [
    {
     "name": "stderr",
     "output_type": "stream",
     "text": [
      "/tmp/ipykernel_607635/1622046972.py:8: DeprecationWarning: `in1d` is deprecated. Use `np.isin` instead.\n",
      "  train_full_df = full_df[~np.in1d(full_df.identifier.astype(str), test_patients)]\n"
     ]
    }
   ],
   "source": [
    "with open(\"test_patients\") as o:\n",
    "    test_patients = [x.strip() for x in o.readlines()]\n",
    "\n",
    "full_df = pd.merge(\n",
    "    pd.merge(radiomics_df, df_class),\n",
    "    df_clinical)\n",
    "\n",
    "train_full_df = full_df[~np.in1d(full_df.identifier.astype(str), test_patients)]\n",
    "\n",
    "train_radiomics_df = train_full_df.drop(relevant_columns, axis=1)\n",
    "train_clinical_df = train_full_df[[\"identifier\", *relevant_columns, \"class\"]]"
   ]
  },
  {
   "cell_type": "markdown",
   "id": "3b2d7782",
   "metadata": {},
   "source": [
    "Now is also a good time to assess how the target is distributed between negative and positive cases (no progression and progression, respectively)."
   ]
  },
  {
   "cell_type": "code",
   "execution_count": 13,
   "id": "bc8ad4ed",
   "metadata": {},
   "outputs": [
    {
     "data": {
      "text/plain": [
       "class\n",
       "0    129\n",
       "1     41\n",
       "Name: count, dtype: int64"
      ]
     },
     "execution_count": 13,
     "metadata": {},
     "output_type": "execute_result"
    }
   ],
   "source": [
    "train_clinical_df[\"class\"].value_counts()"
   ]
  },
  {
   "cell_type": "markdown",
   "id": "b62cce47",
   "metadata": {},
   "source": [
    "The data is somewhat unbalanced (1 progressor for every 3 non-progressors). This can make the application of metrics which do not consider this (i.e. accuracy) a bit tricky!"
   ]
  },
  {
   "cell_type": "markdown",
   "id": "7ed4cd1a-baf4-4682-97ef-c4b83c3b95a5",
   "metadata": {},
   "source": [
    "## Inspecting the data - minimal exploratory data analysis\n",
    "\n",
    "Let us now take the time to plot the data and some of the features and see how they are distributed. Here, we will pick the features showing the highest association with our target variable according to a t-test."
   ]
  },
  {
   "cell_type": "code",
   "execution_count": 14,
   "id": "7d943507-2d96-4701-90e1-c5aa143b082d",
   "metadata": {},
   "outputs": [
    {
     "name": "stderr",
     "output_type": "stream",
     "text": [
      "/home/jose_almeida/micromamba/envs/total_segmentator/lib/python3.12/site-packages/scipy/stats/_axis_nan_policy.py:573: RuntimeWarning: Precision loss occurred in moment calculation due to catastrophic cancellation. This occurs when the data are nearly identical. Results may be unreliable.\n",
      "  res = hypotest_fun_out(*samples, **kwds)\n"
     ]
    }
   ],
   "source": [
    "from scipy import stats # library to perform statistics in Python\n",
    "\n",
    "ttest_results = {}\n",
    "target = train_radiomics_df[\"class\"]\n",
    "for x in train_radiomics_df:\n",
    "    if x not in [\"identifier\", \"phase\", \"mask_idx\", \"class\"]:\n",
    "        feature = train_radiomics_df[x]\n",
    "        ttest_result = stats.ttest_ind(\n",
    "            feature[target == 0].astype(float), \n",
    "            feature[target == 1].astype(float))\n",
    "        if ttest_result.pvalue < 0.05:\n",
    "            ttest_results[x] = ttest_result.statistic\n",
    "\n",
    "ttest_results_clinical = {}\n",
    "target = train_clinical_df[\"class\"]\n",
    "for x in train_clinical_df:\n",
    "    if x not in [\"identifier\", \"class\"] and \"etiology\" not in x:\n",
    "        feature = train_clinical_df[x]\n",
    "        ttest_result = stats.ttest_ind(\n",
    "            feature[target == 0].astype(float), \n",
    "            feature[target == 1].astype(float))\n",
    "        if ttest_result.pvalue < 0.05:\n",
    "            ttest_results_clinical[x] = ttest_result.statistic"
   ]
  },
  {
   "cell_type": "code",
   "execution_count": 15,
   "id": "272248a7-46d8-4236-a499-2e0600812537",
   "metadata": {},
   "outputs": [
    {
     "data": {
      "image/png": "[encoded data removed]",
      "text/plain": [
       "<Figure size 640x480 with 1 Axes>"
      ]
     },
     "metadata": {},
     "output_type": "display_data"
    },
    {
     "data": {
      "image/png": "[encoded data removed]",
      "text/plain": [
       "<Figure size 640x480 with 1 Axes>"
      ]
     },
     "metadata": {},
     "output_type": "display_data"
    },
    {
     "data": {
      "image/png": "[encoded data removed]",
      "text/plain": [
       "<Figure size 640x480 with 1 Axes>"
      ]
     },
     "metadata": {},
     "output_type": "display_data"
    },
    {
     "data": {
      "image/png": "[encoded data removed]",
      "text/plain": [
       "<Figure size 640x480 with 1 Axes>"
      ]
     },
     "metadata": {},
     "output_type": "display_data"
    },
    {
     "data": {
      "image/png": "[encoded data removed]",
      "text/plain": [
       "<Figure size 640x480 with 1 Axes>"
      ]
     },
     "metadata": {},
     "output_type": "display_data"
    }
   ],
   "source": [
    "import seaborn as sbn # plotting library\n",
    "import matplotlib.pyplot as plt\n",
    "\n",
    "top_n = 5\n",
    "\n",
    "ttest_results_sorted = sorted(ttest_results.keys(), key=lambda k: -ttest_results[k] ** 2)\n",
    "\n",
    "for key in ttest_results_sorted[:top_n]:\n",
    "    sbn.boxplot(x=\"class\", y=key, data=train_radiomics_df)\n",
    "    plt.show()"
   ]
  },
  {
   "cell_type": "markdown",
   "id": "c1a68ec6-d889-4046-a6d5-136338968630",
   "metadata": {},
   "source": [
    "We now do the same for the clinical features. Clearly we see there are more radiomics features which are associated with the target variable - this could be a good indication!"
   ]
  },
  {
   "cell_type": "code",
   "execution_count": 16,
   "id": "a38eed2c-601f-4af9-969b-3dc33e499669",
   "metadata": {},
   "outputs": [
    {
     "data": {
      "image/png": "[encoded data removed]",
      "text/plain": [
       "<Figure size 640x480 with 1 Axes>"
      ]
     },
     "metadata": {},
     "output_type": "display_data"
    },
    {
     "data": {
      "image/png": "[encoded data removed]",
      "text/plain": [
       "<Figure size 640x480 with 1 Axes>"
      ]
     },
     "metadata": {},
     "output_type": "display_data"
    }
   ],
   "source": [
    "ttest_results_sorted = sorted(ttest_results_clinical.keys(), key=lambda k: -ttest_results_clinical[k] ** 2)\n",
    "\n",
    "for key in ttest_results_sorted[:top_n]:\n",
    "    sbn.boxplot(x=\"class\", y=key, data=train_clinical_df)\n",
    "    plt.show()"
   ]
  },
  {
   "cell_type": "markdown",
   "id": "7647fe80-1722-4e87-a010-d1ef101febdc",
   "metadata": {},
   "source": [
    "## Building our model\n",
    "\n",
    "Here we will define a pipeline (`Pipeline`) containing a set of components which we have previously discussed are aluded to:\n",
    "\n",
    "- `VarianceThreshold` will (mostly) remove constant features\n",
    "- `StandardScaler` will scale the data such that each feature has $\\mu=0$ and $\\sigma=1$\n",
    "- `RandomForestClassifier` will be our random forest classifier\n",
    "\n",
    "We will first assess the expected performance of our method for hyperparameter selection using nested cross-validation. We will be performing this for three distinct feature sets:\n",
    "\n",
    "1. Radiomics\n",
    "2. Clinical (all of the clinical features)\n",
    "3. Radclin (radiomics _and_ clinical features)"
   ]
  },
  {
   "cell_type": "code",
   "execution_count": 17,
   "id": "0b6d482b-ee04-490a-b1b8-3f265805d688",
   "metadata": {},
   "outputs": [
    {
     "name": "stdout",
     "output_type": "stream",
     "text": [
      "Training with radiomics data (shape=(170, 220))\n"
     ]
    },
    {
     "name": "stderr",
     "output_type": "stream",
     "text": [
      "[Parallel(n_jobs=5)]: Using backend LokyBackend with 5 concurrent workers.\n",
      "/home/jose_almeida/micromamba/envs/total_segmentator/lib/python3.12/site-packages/numpy/ma/core.py:2892: RuntimeWarning: invalid value encountered in cast\n",
      "  _data = np.array(data, dtype=dtype, copy=copy,\n",
      "[Parallel(n_jobs=5)]: Done   2 out of   5 | elapsed:   37.6s remaining:   56.4s\n",
      "/home/jose_almeida/micromamba/envs/total_segmentator/lib/python3.12/site-packages/numpy/ma/core.py:2892: RuntimeWarning: invalid value encountered in cast\n",
      "  _data = np.array(data, dtype=dtype, copy=copy,\n"
     ]
    },
    {
     "name": "stdout",
     "output_type": "stream",
     "text": [
      "[CV] END .................................................... total time=  36.6s\n",
      "[CV] END .................................................... total time=  36.6s\n",
      "[CV] END .................................................... total time=  36.7s\n"
     ]
    },
    {
     "name": "stderr",
     "output_type": "stream",
     "text": [
      "/home/jose_almeida/micromamba/envs/total_segmentator/lib/python3.12/site-packages/numpy/ma/core.py:2892: RuntimeWarning: invalid value encountered in cast\n",
      "  _data = np.array(data, dtype=dtype, copy=copy,\n",
      "/home/jose_almeida/micromamba/envs/total_segmentator/lib/python3.12/site-packages/numpy/ma/core.py:2892: RuntimeWarning: invalid value encountered in cast\n",
      "  _data = np.array(data, dtype=dtype, copy=copy,\n",
      "[Parallel(n_jobs=5)]: Done   5 out of   5 | elapsed:   51.2s finished\n",
      "[Parallel(n_jobs=5)]: Using backend LokyBackend with 5 concurrent workers.\n"
     ]
    },
    {
     "name": "stdout",
     "output_type": "stream",
     "text": [
      "[CV] END .................................................... total time=  49.7s\n",
      "[CV] END .................................................... total time=  49.7s\n",
      "radiomics 0.7085064102564103\n",
      "Training with clinical data (shape=(170, 28))\n",
      "[CV] END .................................................... total time=  27.3s\n",
      "[CV] END .................................................... total time=  27.3s\n"
     ]
    },
    {
     "name": "stderr",
     "output_type": "stream",
     "text": [
      "[Parallel(n_jobs=5)]: Done   2 out of   5 | elapsed:   27.4s remaining:   41.0s\n"
     ]
    },
    {
     "name": "stdout",
     "output_type": "stream",
     "text": [
      "[CV] END .................................................... total time=  27.5s\n",
      "[CV] END .................................................... total time=  38.7s\n",
      "[CV] END .................................................... total time=  38.8s\n",
      "clinical 0.5398547008547008\n",
      "Training with full data (shape=(170, 246))\n"
     ]
    },
    {
     "name": "stderr",
     "output_type": "stream",
     "text": [
      "[Parallel(n_jobs=5)]: Done   5 out of   5 | elapsed:   38.8s finished\n",
      "[Parallel(n_jobs=5)]: Using backend LokyBackend with 5 concurrent workers.\n"
     ]
    },
    {
     "name": "stdout",
     "output_type": "stream",
     "text": [
      "[CV] END .................................................... total time=  36.3s\n",
      "[CV] END .................................................... total time=  36.6s\n",
      "[CV] END .................................................... total time=  36.8s\n"
     ]
    },
    {
     "name": "stderr",
     "output_type": "stream",
     "text": [
      "[Parallel(n_jobs=5)]: Done   2 out of   5 | elapsed:   36.6s remaining:   55.0s\n"
     ]
    },
    {
     "name": "stdout",
     "output_type": "stream",
     "text": [
      "[CV] END .................................................... total time=  50.0s\n",
      "[CV] END .................................................... total time=  50.2s\n",
      "full 0.6505405982905983\n"
     ]
    },
    {
     "name": "stderr",
     "output_type": "stream",
     "text": [
      "[Parallel(n_jobs=5)]: Done   5 out of   5 | elapsed:   50.2s finished\n"
     ]
    }
   ],
   "source": [
    "from sklearn.pipeline import Pipeline\n",
    "from sklearn.preprocessing import StandardScaler\n",
    "from sklearn.feature_selection import VarianceThreshold\n",
    "from sklearn.ensemble import RandomForestClassifier\n",
    "from sklearn.model_selection import StratifiedKFold\n",
    "from sklearn.model_selection import RandomizedSearchCV, cross_validate\n",
    "from scipy.stats import randint\n",
    "\n",
    "df_dict = {\n",
    "    \"radiomics\": train_radiomics_df,\n",
    "    \"clinical\": train_clinical_df,\n",
    "    \"full\": train_full_df,\n",
    "}\n",
    "\n",
    "results = {}\n",
    "inner_folds = 5\n",
    "outer_folds = 5\n",
    "\n",
    "for key in df_dict:\n",
    "    np.random.seed(42)\n",
    "    params = {\n",
    "        \"model__n_estimators\": randint(5, 100),\n",
    "        \"model__max_depth\": randint(5, 20)\n",
    "    }\n",
    "    pipeline = Pipeline(\n",
    "        [(\"variance_threshold\", VarianceThreshold()),\n",
    "         (\"scaler\", StandardScaler()),\n",
    "         (\"model\", RandomForestClassifier(\n",
    "             class_weight=\"balanced\",\n",
    "             random_state=42))]\n",
    "    )\n",
    "    curr_df = df_dict[key]\n",
    "    print(f\"Training with {key} data (shape={curr_df.shape})\")\n",
    "    X = curr_df.drop(\"class\", axis=1).astype(np.float32).to_numpy()\n",
    "    y = curr_df[\"class\"].to_numpy()\n",
    "\n",
    "    inner_cv = StratifiedKFold(\n",
    "        n_splits=inner_folds, shuffle=True, random_state=42)\n",
    "    outer_cv = StratifiedKFold(\n",
    "        n_splits=outer_folds, shuffle=True, random_state=42)\n",
    "\n",
    "    inner_model = RandomizedSearchCV(\n",
    "        pipeline, params, cv=inner_cv, n_iter=100, scoring=\"roc_auc\", \n",
    "        random_state=42)\n",
    "    nested_score = cross_validate(\n",
    "        inner_model, \n",
    "        X=X, \n",
    "        y=y, \n",
    "        cv=outer_cv,\n",
    "        scoring=\"roc_auc\", \n",
    "        verbose=2, \n",
    "        return_estimator=True,\n",
    "        n_jobs=min([outer_folds, 7]),\n",
    "        )\n",
    "\n",
    "    results[key] = nested_score\n",
    "\n",
    "    print(key, np.mean(results[key][\"test_score\"]))"
   ]
  },
  {
   "cell_type": "code",
   "execution_count": 18,
   "id": "9a4a21c8",
   "metadata": {},
   "outputs": [
    {
     "data": {
      "text/plain": [
       "<Axes: xlabel='AUC', ylabel='Features'>"
      ]
     },
     "execution_count": 18,
     "metadata": {},
     "output_type": "execute_result"
    },
    {
     "data": {
      "image/png": "[encoded data removed]",
      "text/plain": [
       "<Figure size 640x480 with 1 Axes>"
      ]
     },
     "metadata": {},
     "output_type": "display_data"
    }
   ],
   "source": [
    "results_df = pd.DataFrame(\n",
    "    {\"AUC\": np.concatenate([\n",
    "        results['radiomics']['test_score'],\n",
    "        results['clinical']['test_score'],\n",
    "        results['full']['test_score']\n",
    "        ]),\n",
    "     \"Features\": np.concatenate(\n",
    "        [[\"Radiomics\" for _ in range(outer_folds)],\n",
    "         [\"Clinical\" for _ in range(outer_folds)],\n",
    "         [\"Radclin\" for _ in range(outer_folds)]])}\n",
    "     )\n",
    "\n",
    "sbn.pointplot(x=\"AUC\", y=\"Features\", data=results_df, linestyle='')"
   ]
  },
  {
   "cell_type": "code",
   "execution_count": 19,
   "id": "e0aa58ff",
   "metadata": {},
   "outputs": [
    {
     "name": "stdout",
     "output_type": "stream",
     "text": [
      "Radiomics vs. clinical: TtestResult(statistic=np.float64(2.789188911773895), pvalue=np.float64(0.023587800569580653), df=np.float64(8.0))\n",
      "Radiomics+clinical vs. clinical: TtestResult(statistic=np.float64(2.4316442397877522), pvalue=np.float64(0.041096694330042004), df=np.float64(8.0))\n",
      "Radiomics vs. radiomics+clinical: TtestResult(statistic=np.float64(1.2594030597138708), pvalue=np.float64(0.24338545132222947), df=np.float64(8.0))\n"
     ]
    }
   ],
   "source": [
    "from scipy import stats\n",
    "\n",
    "print(\"Radiomics vs. clinical:\", stats.ttest_ind(results[\"radiomics\"][\"test_score\"], results[\"clinical\"][\"test_score\"]))\n",
    "print(\"Radiomics+clinical vs. clinical:\", stats.ttest_ind(results[\"full\"][\"test_score\"], results[\"clinical\"][\"test_score\"])) \n",
    "print(\"Radiomics vs. radiomics+clinical:\", stats.ttest_ind(results[\"radiomics\"][\"test_score\"], results[\"full\"][\"test_score\"]))"
   ]
  },
  {
   "cell_type": "code",
   "execution_count": 21,
   "id": "40fdd0ab",
   "metadata": {},
   "outputs": [
    {
     "data": {
      "text/plain": [
       "['model/all_models.joblib']"
      ]
     },
     "execution_count": 21,
     "metadata": {},
     "output_type": "execute_result"
    }
   ],
   "source": [
    "import joblib # here we are using this library to save our model\n",
    "import os\n",
    "\n",
    "os.makedirs(\"model\", exist_ok=True)\n",
    "joblib.dump(results, \"model/all_models.joblib\")"
   ]
  },
  {
   "cell_type": "markdown",
   "id": "5a3fbdd0",
   "metadata": {},
   "source": [
    "Excellent! We appear to have an improvement on progression prediction both using radiomic features and using all features (clinical and radiomics).\n",
    "\n",
    "We are only missing one last part of our approach: validating our models on our hold-out test set."
   ]
  },
  {
   "cell_type": "markdown",
   "id": "2302958f",
   "metadata": {},
   "source": [
    "## Validation"
   ]
  },
  {
   "cell_type": "code",
   "execution_count": 22,
   "id": "b78dfe1b",
   "metadata": {},
   "outputs": [
    {
     "name": "stderr",
     "output_type": "stream",
     "text": [
      "/tmp/ipykernel_607635/157976779.py:1: DeprecationWarning: `in1d` is deprecated. Use `np.isin` instead.\n",
      "  test_full_df = full_df[np.in1d(full_df.identifier.astype(str), test_patients)]\n"
     ]
    }
   ],
   "source": [
    "test_full_df = full_df[np.in1d(full_df.identifier.astype(str), test_patients)]\n",
    "\n",
    "test_radiomics_df = test_full_df.drop(relevant_columns, axis=1)\n",
    "test_clinical_df = test_full_df[[\"identifier\", *relevant_columns, \"class\"]]"
   ]
  },
  {
   "cell_type": "code",
   "execution_count": null,
   "id": "45065273",
   "metadata": {},
   "outputs": [
    {
     "name": "stdout",
     "output_type": "stream",
     "text": [
      "radiomics: ROC=0.6846689895470384\n",
      "clinical: ROC=0.5209059233449478\n",
      "full: ROC=0.6829268292682926\n"
     ]
    }
   ],
   "source": [
    "from sklearn.metrics import roc_auc_score\n",
    "\n",
    "test_df_dict = {\n",
    "    \"radiomics\": test_radiomics_df,\n",
    "    \"clinical\": test_clinical_df,\n",
    "    \"full\": test_full_df,\n",
    "}\n",
    "\n",
    "for key in test_df_dict:\n",
    "    curr_df = test_df_dict[key]\n",
    "    X = curr_df.drop(\"class\", axis=1).astype(np.float32).to_numpy()\n",
    "    y = curr_df[\"class\"].to_numpy()\n",
    "\n",
    "    probas = [estimator.predict_proba(X)[:, 1] \n",
    "              for estimator in results[key][\"estimator\"]]\n",
    "    probas = np.array(probas).mean(0)\n",
    "\n",
    "    predictions = [estimator.predict(X)\n",
    "                   for estimator in results[key][\"estimator\"]]\n",
    "    predictions = np.array(predictions).mean(0) > 0.5\n",
    "\n",
    "    print(\n",
    "        f\"{key}: ROC={roc_auc_score(y, probas)}\"\n",
    "    )"
   ]
  }
 ],
 "metadata": {
  "kernelspec": {
   "display_name": "Python 3",
   "language": "python",
   "name": "python3"
  },
  "language_info": {
   "codemirror_mode": {
    "name": "ipython",
    "version": 3
   },
   "file_extension": ".py",
   "mimetype": "text/x-python",
   "name": "python",
   "nbconvert_exporter": "python",
   "pygments_lexer": "ipython3",
   "version": "3.12.1"
  }
 },
 "nbformat": 4,
 "nbformat_minor": 5
}
